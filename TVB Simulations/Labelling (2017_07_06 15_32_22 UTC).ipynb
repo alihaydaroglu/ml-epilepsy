{
 "cells": [
  {
   "cell_type": "markdown",
   "metadata": {},
   "source": [
    "It's a pain to keep track of all the brain region labels. Here are some lists."
   ]
  },
  {
   "cell_type": "code",
   "execution_count": 17,
   "metadata": {
    "collapsed": false
   },
   "outputs": [
    {
     "name": "stdout",
     "output_type": "stream",
     "text": [
      "lIA\n",
      "38\n"
     ]
    }
   ],
   "source": [
    "regions = ['rA1', 'rA2', 'rAMYG', 'rCCA', 'rCCP', 'rCCR', 'rCCS', 'rFEF', 'rG',\n",
    "       'rHC', 'rIA', 'rIP', 'rM1', 'rPCI', 'rPCIP', 'rPCM', 'rPCS',\n",
    "       'rPFCCL', 'rPFCDL', 'rPFCDM', 'rPFCM', 'rPFCORB', 'rPFCPOL',\n",
    "       'rPFCVL', 'rPHC', 'rPMCDL', 'rPMCM', 'rPMCVL', 'rS1', 'rS2', 'rTCC',\n",
    "       'rTCI', 'rTCPOL', 'rTCS', 'rTCV', 'rV1', 'rV2', 'rCC', 'lA1', 'lA2',\n",
    "       'lAMYG', 'lCCA', 'lCCP', 'lCCR', 'lCCS', 'lFEF', 'lG', 'lHC', 'lIA',\n",
    "       'lIP', 'lM1', 'lPCI', 'lPCIP', 'lPCM', 'lPCS', 'lPFCCL', 'lPFCDL',\n",
    "       'lPFCDM', 'lPFCM', 'lPFCORB', 'lPFCPOL', 'lPFCVL', 'lPHC', 'lPMCDL',\n",
    "       'lPMCM', 'lPMCVL', 'lS1', 'lS2', 'lTCC', 'lTCI', 'lTCPOL', 'lTCS',\n",
    "       'lTCV', 'lV1', 'lV2', 'lCC']\n",
    "print regions[48]\n",
    "print regions.index(\"lA1\")"
   ]
  },
  {
   "cell_type": "code",
   "execution_count": 1,
   "metadata": {
    "collapsed": true
   },
   "outputs": [],
   "source": [
    "SEEG_labels = ['TP1', 'TP2', 'TP3', 'TP4', 'TP5', 'TP6', 'TP7', 'TP8', 'TP9',\n",
    "       'TB1', 'TB2', 'TB3', 'TB4', 'TB5', 'TB6', 'TB7', 'TB8', 'TB9', 'A1',\n",
    "       'A2', 'A3', 'A4', 'A5', 'A6', 'A7', 'A8', 'A9', 'B1', 'B2', 'B3',\n",
    "       'B4', 'B5', 'B6', 'B7', 'B8', 'B9', 'C1', 'C2', 'C3', 'C4', 'C5',\n",
    "       'C6', 'C7', 'C8', 'C9', 'GPH1', 'GPH2', 'GPH3', 'GPH4', 'GPH5',\n",
    "       'GPH6', 'GPH7', 'GPH8', 'GPH9', 'OT1', 'OT2', 'OT3', 'OT4', 'OT5',\n",
    "       'OT6', 'OT7', 'OT8', 'OT9', 'FCA1', 'FCA2', 'FCA3', 'FCA4', 'FCA5',\n",
    "       'FCA6', 'FCA7', 'FCA8', 'FCA9', 'GL1', 'GL2', 'GL3', 'GL4', 'GL5',\n",
    "       'GL6', 'GL7', 'GL8', 'GL9', 'Cu1', 'Cu2', 'Cu3', 'Cu4', 'Cu5',\n",
    "       'Cu6', 'Cu7', 'Cu8', 'Cu9', 'PFG1', 'PFG2', 'PFG3', 'PFG4', 'PFG5',\n",
    "       'PFG6', 'PFG7', 'PFG8', 'PFG9', 'PP1', 'PP2', 'PP3', 'PP4', 'PP5',\n",
    "       'PP6', 'PP7', 'PP8', 'PP9', 'PA1', 'PA2', 'PA3', 'PA4', 'PA5',\n",
    "       'PA6', 'PA7', 'PA8', 'PA9', 'GC1', 'GC2', 'GC3', 'GC4', 'GC5',\n",
    "       'GC6', 'GC7', 'GC8', 'GC9', 'PI1', 'PI2', 'PI3', 'PI4', 'PI5',\n",
    "       'PI6', 'PI7', 'PI8', 'PI9', 'CP1', 'CP2', 'CP3', 'CP4', 'CP5',\n",
    "       'CP6', 'CP7', 'CP8', 'CP9', 'CC1', 'CC2', 'CC3', 'CC4', 'CC5',\n",
    "       'CC6', 'CC7', 'CC8', 'CC9', 'LP1', 'LP2', 'LP3', 'LP4', 'LP5',\n",
    "       'LP6', 'LP7', 'LP8', 'LP9', 'SA1', 'SA2', 'SA3', 'SA4', 'SA5',\n",
    "       'SA6', 'SA7', 'SA8', 'SA9', 'PM1', 'PM2', 'PM3', 'PM4', 'PM5',\n",
    "       'PM6', 'PM7', 'PM8', 'PM9', 'FD1', 'FD2', 'FD3', 'FD4', 'FD5',\n",
    "       'FD6', 'FD7', 'FD8', 'FD9', 'FP1', 'FP2', 'FP3', 'FP4', 'FP5',\n",
    "       'FP6', 'FP7', 'FP8', 'FP9', 'CR1', 'CR2', 'CR3', 'CR4', 'CR5',\n",
    "       'CR6', 'CR7', 'CR8', 'CR9', 'R1', 'R2', 'R3', 'R4', 'R5', 'R6',\n",
    "       'R7', 'R8', 'R9', 'OR1', 'OR2', 'OR3', 'OR4', 'OR5', 'OR6', 'OR7',\n",
    "       'OR8', 'OR9', 'OR10', 'OR11', 'OR12', 'OR13', 'OR14', 'OR15', 'FT1',\n",
    "       'FT2', 'FT3', 'FT4', 'FT5', 'FT6', 'FT7', 'FT8', 'FT9', 'SC1',\n",
    "       'SC2', 'SC3', 'SC4', 'SC5', 'SC6', 'SC7', 'SC8', 'SC9', 'OF1',\n",
    "       'OF2', 'OF3', 'OF4', 'OF5', 'OF6', 'OF7', 'OF8', 'OF9', 'OC1',\n",
    "       'OC2', 'OC3', 'OC4', 'OC5', 'OC6', 'OC7', 'OC8', 'OC9', 'OP1',\n",
    "       'OP2', 'OP3', 'OP4', 'OP5', 'OP6', 'OP7', 'OP8', 'OP9', 'H1', 'H2',\n",
    "       'H3', 'H4', 'H5', 'H6', 'H7', 'H8', 'H9', 'T1', 'T2', 'T3', 'T4',\n",
    "       'T5', 'T6', 'T7', 'T8', 'T9', \"TP'1\", \"TP'2\", \"TP'3\", \"TP'4\",\n",
    "       \"TP'5\", \"TP'6\", \"TP'7\", \"TP'8\", \"TP'9\", \"TB'1\", \"TB'2\", \"TB'3\",\n",
    "       \"TB'4\", \"TB'5\", \"TB'6\", \"TB'7\", \"TB'8\", \"TB'9\", \"A'1\", \"A'2\", \"A'3\",\n",
    "       \"A'4\", \"A'5\", \"A'6\", \"A'7\", \"A'8\", \"A'9\", \"B'1\", \"B'2\", \"B'3\",\n",
    "       \"B'4\", \"B'5\", \"B'6\", \"B'7\", \"B'8\", \"B'9\", \"C'1\", \"C'2\", \"C'3\",\n",
    "       \"C'4\", \"C'5\", \"C'6\", \"C'7\", \"C'8\", \"C'9\", \"GPH'1\", \"GPH'2\", \"GPH'3\",\n",
    "       \"GPH'4\", \"GPH'5\", \"GPH'6\", \"GPH'7\", \"GPH'8\", \"GPH'9\", \"OT'1\",\n",
    "       \"OT'2\", \"OT'3\", \"OT'4\", \"OT'5\", \"OT'6\", \"OT'7\", \"OT'8\", \"OT'9\",\n",
    "       \"FCA'1\", \"FCA'2\", \"FCA'3\", \"FCA'4\", \"FCA'5\", \"FCA'6\", \"FCA'7\",\n",
    "       \"FCA'8\", \"FCA'9\", \"GL'1\", \"GL'2\", \"GL'3\", \"GL'4\", \"GL'5\", \"GL'6\",\n",
    "       \"GL'7\", \"GL'8\", \"GL'9\", \"Cu'1\", \"Cu'2\", \"Cu'3\", \"Cu'4\", \"Cu'5\",\n",
    "       \"Cu'6\", \"Cu'7\", \"Cu'8\", \"Cu'9\", \"PFG'1\", \"PFG'2\", \"PFG'3\", \"PFG'4\",\n",
    "       \"PFG'5\", \"PFG'6\", \"PFG'7\", \"PFG'8\", \"PFG'9\", \"PP'1\", \"PP'2\", \"PP'3\",\n",
    "       \"PP'4\", \"PP'5\", \"PP'6\", \"PP'7\", \"PP'8\", \"PP'9\", \"PA'1\", \"PA'2\",\n",
    "       \"PA'3\", \"PA'4\", \"PA'5\", \"PA'6\", \"PA'7\", \"PA'8\", \"PA'9\", \"GC'1\",\n",
    "       \"GC'2\", \"GC'3\", \"GC'4\", \"GC'5\", \"GC'6\", \"GC'7\", \"GC'8\", \"GC'9\",\n",
    "       \"PI'1\", \"PI'2\", \"PI'3\", \"PI'4\", \"PI'5\", \"PI'6\", \"PI'7\", \"PI'8\",\n",
    "       \"PI'9\", \"CP'1\", \"CP'2\", \"CP'3\", \"CP'4\", \"CP'5\", \"CP'6\", \"CP'7\",\n",
    "       \"CP'8\", \"CP'9\", \"CC'1\", \"CC'2\", \"CC'3\", \"CC'4\", \"CC'5\", \"CC'6\",\n",
    "       \"CC'7\", \"CC'8\", \"CC'9\", \"LP'1\", \"LP'2\", \"LP'3\", \"LP'4\", \"LP'5\",\n",
    "       \"LP'6\", \"LP'7\", \"LP'8\", \"LP'9\", \"SA'1\", \"SA'2\", \"SA'3\", \"SA'4\",\n",
    "       \"SA'5\", \"SA'6\", \"SA'7\", \"SA'8\", \"SA'9\", \"PM'1\", \"PM'2\", \"PM'3\",\n",
    "       \"PM'4\", \"PM'5\", \"PM'6\", \"PM'7\", \"PM'8\", \"PM'9\", \"FD'1\", \"FD'2\",\n",
    "       \"FD'3\", \"FD'4\", \"FD'5\", \"FD'6\", \"FD'7\", \"FD'8\", \"FD'9\", \"FP'1\",\n",
    "       \"FP'2\", \"FP'3\", \"FP'4\", \"FP'5\", \"FP'6\", \"FP'7\", \"FP'8\", \"FP'9\",\n",
    "       \"CR'1\", \"CR'2\", \"CR'3\", \"CR'4\", \"CR'5\", \"CR'6\", \"CR'7\", \"CR'8\",\n",
    "       \"CR'9\", \"R'1\", \"R'2\", \"R'3\", \"R'4\", \"R'5\", \"R'6\", \"R'7\", \"R'8\",\n",
    "       \"R'9\", \"OR'1\", \"OR'2\", \"OR'3\", \"OR'4\", \"OR'5\", \"OR'6\", \"OR'7\",\n",
    "       \"OR'8\", \"OR'9\", \"OR'10\", \"OR'11\", \"OR'12\", \"OR'13\", \"OR'14\",\n",
    "       \"OR'15\", \"FT'1\", \"FT'2\", \"FT'3\", \"FT'4\", \"FT'5\", \"FT'6\", \"FT'7\",\n",
    "       \"FT'8\", \"FT'9\", \"SC'1\", \"SC'2\", \"SC'3\", \"SC'4\", \"SC'5\", \"SC'6\",\n",
    "       \"SC'7\", \"SC'8\", \"SC'9\", \"OF'1\", \"OF'2\", \"OF'3\", \"OF'4\", \"OF'5\",\n",
    "       \"OF'6\", \"OF'7\", \"OF'8\", \"OF'9\", \"OC'1\", \"OC'2\", \"OC'3\", \"OC'4\",\n",
    "       \"OC'5\", \"OC'6\", \"OC'7\", \"OC'8\", \"OC'9\", \"OP'1\", \"OP'2\", \"OP'3\",\n",
    "       \"OP'4\", \"OP'5\", \"OP'6\", \"OP'7\", \"OP'8\", \"OP'9\", \"H'1\", \"H'2\", \"H'3\",\n",
    "       \"H'4\", \"H'5\", \"H'6\", \"H'7\", \"H'8\", \"H'9\", \"T'1\", \"T'2\", \"T'3\",\n",
    "       \"T'4\", \"T'5\", \"T'6\", \"T'7\", \"T'8\", \"T'9\"]"
   ]
  },
  {
   "cell_type": "code",
   "execution_count": 4,
   "metadata": {
    "collapsed": false
   },
   "outputs": [
    {
     "data": {
      "text/plain": [
       "578"
      ]
     },
     "execution_count": 4,
     "metadata": {},
     "output_type": "execute_result"
    }
   ],
   "source": [
    "SEEG_labels.index(\"H'9\")"
   ]
  },
  {
   "cell_type": "markdown",
   "metadata": {},
   "source": [
    "This is how I found these labels:"
   ]
  },
  {
   "cell_type": "code",
   "execution_count": 12,
   "metadata": {
    "collapsed": false
   },
   "outputs": [
    {
     "name": "stdout",
     "output_type": "stream",
     "text": [
      "Populating the interactive namespace from numpy and matplotlib\n",
      "   INFO  log level set to INFO\n",
      "WARNING  File 'hemispheres' not found in ZIP.\n"
     ]
    },
    {
     "data": {
      "text/plain": [
       "array(['rA1', 'rA2', 'rAMYG', 'rCCA', 'rCCP', 'rCCR', 'rCCS', 'rFEF', 'rG',\n",
       "       'rHC', 'rIA', 'rIP', 'rM1', 'rPCI', 'rPCIP', 'rPCM', 'rPCS',\n",
       "       'rPFCCL', 'rPFCDL', 'rPFCDM', 'rPFCM', 'rPFCORB', 'rPFCPOL',\n",
       "       'rPFCVL', 'rPHC', 'rPMCDL', 'rPMCM', 'rPMCVL', 'rS1', 'rS2', 'rTCC',\n",
       "       'rTCI', 'rTCPOL', 'rTCS', 'rTCV', 'rV1', 'rV2', 'rCC', 'lA1', 'lA2',\n",
       "       'lAMYG', 'lCCA', 'lCCP', 'lCCR', 'lCCS', 'lFEF', 'lG', 'lHC', 'lIA',\n",
       "       'lIP', 'lM1', 'lPCI', 'lPCIP', 'lPCM', 'lPCS', 'lPFCCL', 'lPFCDL',\n",
       "       'lPFCDM', 'lPFCM', 'lPFCORB', 'lPFCPOL', 'lPFCVL', 'lPHC', 'lPMCDL',\n",
       "       'lPMCM', 'lPMCVL', 'lS1', 'lS2', 'lTCC', 'lTCI', 'lTCPOL', 'lTCS',\n",
       "       'lTCV', 'lV1', 'lV2', 'lCC'], \n",
       "      dtype='|S7')"
      ]
     },
     "execution_count": 12,
     "metadata": {},
     "output_type": "execute_result"
    }
   ],
   "source": [
    "%pylab nbagg\n",
    "from tvb.simulator.lab import *\n",
    "\n",
    "con = connectivity.Connectivity(load_default=True)\n",
    "con.region_labels"
   ]
  }
 ],
 "metadata": {
  "kernelspec": {
   "display_name": "Python 2",
   "language": "python",
   "name": "python2"
  },
  "language_info": {
   "codemirror_mode": {
    "name": "ipython",
    "version": 2
   },
   "file_extension": ".py",
   "mimetype": "text/x-python",
   "name": "python",
   "nbconvert_exporter": "python",
   "pygments_lexer": "ipython2",
   "version": "2.7.11"
  }
 },
 "nbformat": 4,
 "nbformat_minor": 0
}
