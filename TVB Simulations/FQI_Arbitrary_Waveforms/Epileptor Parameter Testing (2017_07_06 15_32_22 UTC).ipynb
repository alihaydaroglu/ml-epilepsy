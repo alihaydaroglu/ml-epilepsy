{
 "cells": [
  {
   "cell_type": "code",
   "execution_count": 1,
   "metadata": {
    "collapsed": false
   },
   "outputs": [
    {
     "name": "stdout",
     "output_type": "stream",
     "text": [
      "   INFO  log level set to INFO\n",
      "Populating the interactive namespace from numpy and matplotlib\n"
     ]
    }
   ],
   "source": [
    "from tvb.simulator.lab import *\n",
    "%pylab nbagg"
   ]
  },
  {
   "cell_type": "code",
   "execution_count": 8,
   "metadata": {
    "collapsed": true
   },
   "outputs": [],
   "source": [
    "savepath = \"kftest/\""
   ]
  },
  {
   "cell_type": "code",
   "execution_count": 9,
   "metadata": {
    "collapsed": true
   },
   "outputs": [],
   "source": [
    "runtime = 30000\n",
    "epileptic = [9]\n",
    "almost_epileptic = []\n",
    "stimulus_target = [9]\n",
    "stimulus_amplitude = 0\n",
    "stimulus_weight = 2 #0-2 for each region\n",
    "onset = 0\n",
    "period = 0\n",
    "pulse_width = 0\n",
    "sim_time = runtime"
   ]
  },
  {
   "cell_type": "code",
   "execution_count": 13,
   "metadata": {
    "collapsed": true
   },
   "outputs": [],
   "source": [
    "# (min, max, number of steps)\n",
    "parameter_space = [(-0.2, -0.2, 1.0), (0.03, 0.1, 5.0), (0.00015, 0.00015, 1.0)]"
   ]
  },
  {
   "cell_type": "code",
   "execution_count": 15,
   "metadata": {
    "collapsed": false,
    "scrolled": true
   },
   "outputs": [
    {
     "name": "stdout",
     "output_type": "stream",
     "text": [
      "testing 000\n",
      "WARNING  File 'hemispheres' not found in ZIP.\n",
      "testing 010\n",
      "WARNING  File 'hemispheres' not found in ZIP.\n",
      "testing 020\n",
      "WARNING  File 'hemispheres' not found in ZIP.\n",
      "testing 030\n",
      "WARNING  File 'hemispheres' not found in ZIP.\n",
      "testing 040\n",
      "WARNING  File 'hemispheres' not found in ZIP.\n"
     ]
    }
   ],
   "source": [
    "s = parameter_space[0][0]\n",
    "f = parameter_space[1][0]\n",
    "r = parameter_space[2][0]\n",
    "ioff()\n",
    "for i in range(int(parameter_space[0][2])):\n",
    "    \n",
    "    f = parameter_space[1][0]\n",
    "    for j in range(int(parameter_space[1][2])):\n",
    "        \n",
    "        r = parameter_space[2][0]\n",
    "        for k in range(int(parameter_space[2][2])):\n",
    "            \n",
    "            print(\"testing \" + str(i) + str(j) + str(k))\n",
    "            \n",
    "            (sim, stim) = set_sim(epileptic, almost_epileptic, stimulus_target, stimulus_amplitude, stimulus_weight, onset, period, \n",
    "                    pulse_width, runtime, eqn[0], params[0], K_s = s, K_f = f, r_1 = r)\n",
    "            \n",
    "            (t,d), (aaa, bbb), (ccc,ddd) = sim.run(simulation_length = runtime)\n",
    "            \n",
    "            fig, ax1 = pyplot.subplots(figsize=(15,12))\n",
    "            ax1.plot(t[:],d[:,0,9,0], 'r', label = \"Local Field Potential\")\n",
    "            ax1.set_ylim(-5, 5)\n",
    "            title(\"Epileptor Parameter Sweep\\n K_s = \" + str(s) + \" K_f = \" + str(f) + \" r = \" + str(r))\n",
    "            fig.savefig(savepath + \"paramtest\" + str(i) + str(j) + str(k))\n",
    "            \n",
    "            red = matplotlib.patches.Patch(color='red', label = 'LFP')\n",
    "            legend(handles=[red])\n",
    "            \n",
    "            #r += (parameter_space[2][1] - parameter_space[2][0])/ (parameter_space[2][2] - 1.0)\n",
    "        f += (parameter_space[1][1] - parameter_space[1][0])/ (parameter_space[1][2] - 1.0)\n",
    "    #s += (parameter_space[0][1] - parameter_space[0][0])/ (parameter_space[0][2] - 1.0)\n",
    "            \n",
    "\n",
    "            "
   ]
  },
  {
   "cell_type": "code",
   "execution_count": null,
   "metadata": {
    "collapsed": true
   },
   "outputs": [],
   "source": [
    "(epileptic, almost_epileptic, target, amp, stim_weight, \n",
    "            onset, period, pw, sim_time, eqn, eqn_param_dict, K_s=-0.2, K_f=0.1, r_1=0.00015)"
   ]
  },
  {
   "cell_type": "markdown",
   "metadata": {},
   "source": [
    "#Built-in Waveforms\n",
    "The standard pulsetrain, sinusoid and the double Gaussian seem useful."
   ]
  },
  {
   "cell_type": "code",
   "execution_count": 5,
   "metadata": {
    "collapsed": false
   },
   "outputs": [],
   "source": [
    "eqn = [equations.PulseTrain(),\n",
    "       equations.Sinusoid(), \n",
    "       equations.DoubleGaussian()]\n",
    "params = [{'T' : 0, 'onset' : 0, 'tau' : 0, 'amp' : 0},\n",
    "          {'amp' : 1.0, 'frequency' : 0.1},\n",
    "          {'amp_1' : 0.5, 'amp_2' : 1.0, 'midpoint_1' : 100.0, 'midpoint_2' : 100.0, 'sigma_1' : 20.0, 'sigma_2' : 10.0}]\n",
    "#ts, ds, simulation, stimulus = prepare_sim(run = False, equation = eqn[1], param = params[1])\n",
    "#plot_pattern(stimulus)"
   ]
  },
  {
   "cell_type": "code",
   "execution_count": null,
   "metadata": {
    "collapsed": true
   },
   "outputs": [],
   "source": []
  },
  {
   "cell_type": "code",
   "execution_count": 6,
   "metadata": {
    "collapsed": false
   },
   "outputs": [],
   "source": [
    "def set_sim(epileptic, almost_epileptic, target, amp, stim_weight, \n",
    "            onset, period, pw, sim_time, eqn, eqn_param_dict, K_s=-0.2, K_f=0.1, r_1=0.00015):\n",
    "  \n",
    "    #Set up epileptic regions\n",
    "    epileptors = models.Epileptor(Ks=K_s, Kf=K_f, r=r_1)\n",
    "    epileptors.x0 = np.ones((76))*-2.4 #set all brain regions non-epileptic\n",
    "    epileptors.x0[almost_epileptic] = np.ones((2))*-1.9 #overwrite as epileptogenic; borderline epileptic ('close to epilepsy threshold')\n",
    "    epileptors.x0[epileptic] = np.ones((3))*-1.6 #rHC and lHC are epileptic\n",
    "\n",
    "    #brain parameters and integration method\n",
    "    con = connectivity.Connectivity(load_default=True)\n",
    "    coupl = coupling.Difference(a=1.)\n",
    "   \n",
    "\n",
    "\n",
    "    hiss = noise.Additive(nsig = np.array([0., 0., 0., 0.0003, 0.0003, 0.]))\n",
    "    #heunint = integrators.HeunStochastic(dt=0.05, noise=hiss)\n",
    "    heunint = integrators.HeunDeterministic(dt=0.05)\n",
    "\n",
    "    #set up monitors (SEEG and temporal average)\n",
    "    rm = region_mapping.RegionMapping(load_default=True)\n",
    "    mon_tavg = monitors.TemporalAverage(period=1.)\n",
    "    mon_EEG = monitors.EEG(load_default=True,\n",
    "                       region_mapping=rm,\n",
    "                       period=1.)\n",
    "    mon_SEEG = monitors.iEEG(load_default=True,\n",
    "                             region_mapping=rm,\n",
    "                             period=1.,\n",
    "                             ) #intracranial EEG (iEEG) is a particular/specific type of stereoEEG (SEEG)\n",
    "    what_to_watch = (mon_tavg, mon_EEG, mon_SEEG)\n",
    "    \n",
    "    \n",
    "    #set stimulus to epileptic regions\n",
    "    weighting = np.ones((76))*0 #np.zeros((76))\n",
    "    weighting[target] = np.array([stim_weight]) #stimulate rHC and lHC\n",
    "\n",
    "\n",
    "    #set stimulation paramaeters\n",
    "    eqn_t = eqn              #square wave \n",
    "    eqn_t.parameters = eqn_param_dict\n",
    "    stim = patterns.StimuliRegion(temporal = eqn_t,\n",
    "                          connectivity = con, \n",
    "                          weight = weighting)\n",
    "    \n",
    "    #Configure space and time\n",
    "    stim.configure_space()\n",
    "    stim.configure_time(np.arange(0., sim_time, heunint.dt))\n",
    "\n",
    "    #Initialise a Simulator -- Model, Connectivity, Integrator, and Monitors.\n",
    "    sim = simulator.Simulator(model = epileptors, \n",
    "                      connectivity = con,\n",
    "                      coupling = coupl, \n",
    "                      integrator = heunint, \n",
    "                      monitors = what_to_watch,\n",
    "                      stimulus = stim,\n",
    "                      simulation_length = sim_time)\n",
    "    sim.configure()\n",
    "    \n",
    "    return (sim, stim)\n",
    "\n",
    "\n",
    "\n",
    "def normalize_plot_tavg(ttavg, tavg, regions, descriptive_text, epileptic, almost_epileptic, \n",
    "                        target, amp = \"var\", stim_weight = \"var\", onset = \"var\",\n",
    "                        period = \"var\", pw = \"var\"):\n",
    "        \n",
    "    tavg /= (np.max(tavg,0) - np.min(tavg,0 ))\n",
    "    plt.ioff()\n",
    "    #Plot raw time series\n",
    "    plt.figure(figsize=(10,8 + len(regions)/2))\n",
    "    #plot(ttavg[:], tavg[:, 0, :, 0] + np.r_[:76], 'r')\n",
    "    plt.plot(ttavg[:], 0.75*tavg[:, 0, regions, 0] + np.r_[:len(regions)], 'r')\n",
    "    \n",
    "    #yticks(np.r_[:76], connectivity.Connectivity(load_default=True).region_labels[:])\n",
    "    plt.yticks(np.r_[:len(regions)], connectivity.Connectivity(load_default=True).region_labels[regions])   \n",
    "\n",
    "    plt.title(descriptive_text + \"\\n Epileptic: \" + str(epileptic) + \" Borderline: \" + str(almost_epileptic) + \n",
    "          \" Target: \" + str(target) + \"\\n Amplitude: \" + str(amp) + \n",
    "          \" Weight: \" + str(stim_weight) + \"\\n Onset: \" + str(onset) + \n",
    "          \" Period: \" + str(period) + \" Pulse Width: \" + str(pw))\n",
    "    plt.show()\n",
    "\n",
    "\n",
    "# In[5]:\n",
    "\n",
    "def normalize_plot_ieeg(tseeg, seeg, electrodes, descriptive_text, epileptic, almost_epileptic, \n",
    "                        target, amp = \"var\", stim_weight = \"var\", onset = \"var\",\n",
    "                        period = \"var\", pw = \"var\"):\n",
    "    \n",
    "    seeg /= (np.max(seeg, 0) - np.min(seeg, 0))\n",
    "    seeg -= np.mean(seeg, 0)\n",
    "    \n",
    "    plt.figure(figsize=(10,8 + len(electrodes)/2))\n",
    "    plt.plot(tseeg[:], 3*seeg[:,0, electrodes, 0] + 2*np.r_[:len(electrodes)])\n",
    "    plt.yticks(2*np.r_[:len(electrodes)],  monitors.iEEG(load_default=True,\n",
    "                                  region_mapping=region_mapping.RegionMapping(load_default=True),\n",
    "                                  period=1.,).sensors.labels[electrodes])\n",
    "    \n",
    "    \n",
    "    plt.title(descriptive_text + \"\\n Epileptic: \" + str(epileptic) + \" Borderline: \" + str(almost_epileptic) + \n",
    "          \" Target: \" + str(target) + \"\\n Amplitude: \" + str(amp) + \n",
    "          \" Weight: \" + str(stim_weight) + \"\\n Onset: \" + str(onset) + \n",
    "          \" Period: \" + str(period) + \" Pulse Width: \" + str(pw))\n",
    "    plt.show()\n",
    "    \n",
    "\n",
    "\n",
    "# In[6]:\n",
    "\n",
    "def normalize_plot_eeg(teeg, eeg, electrodes, descriptive_text, epileptic, almost_epileptic, \n",
    "                        target, amp = \"var\", stim_weight = \"var\", onset = \"var\",\n",
    "                        period = \"var\", pw = \"var\"):\n",
    "    \n",
    "    eeg /= (np.max(eeg, 0) - np.min(eeg, 0))\n",
    "    eeg -= np.mean(eeg, 0)\n",
    "    \n",
    "    plt.figure(figsize=(20,8 + len(electrodes)/2))\n",
    "    plt.plot(teeg[:], 3*eeg[:,0, electrodes, 0] + 2*np.r_[:len(electrodes)])\n",
    "    plt.yticks(2*np.r_[:len(electrodes)],  monitors.EEG(load_default=True,\n",
    "                                  region_mapping=region_mapping.RegionMapping(load_default=True),\n",
    "                                  period=1.,).sensors.labels[electrodes])\n",
    "    \n",
    "    \n",
    "    plt.title(descriptive_text + \"\\n Epileptic: \" + str(epileptic) + \" Borderline: \" + str(almost_epileptic) + \n",
    "          \" Target: \" + str(target) + \"\\n Amplitude: \" + str(amp) + \n",
    "          \" Weight: \" + str(stim_weight) + \"\\n Onset: \" + str(onset) + \n",
    "          \" Period: \" + str(period) + \" Pulse Width: \" + str(pw))\n",
    "    plt.show()\n",
    "    \n",
    "\n",
    "def save_fig_and_data(ttavg, tavg, regions, descriptive_text, epileptic, \n",
    "                      almost_epileptic, target, amp = \"var\", stim_weight = \"var\", \n",
    "                      onset = \"var\", period = \"var\", pw = \"var\"):\n",
    "    tavg /= (np.max(tavg,0) - np.min(tavg,0 ))\n",
    "    plt.ioff()\n",
    "    plt.figure(figsize=(10,8 + len(regions)/2))\n",
    "    plt.plot(ttavg[:], tavg[:, 0, regions, 0] + np.r_[:len(regions)], 'r')\n",
    "    plt.yticks(np.r_[:len(regions)], connectivity.Connectivity(load_default=True)\n",
    ".region_labels[regions])\n",
    "    plt.title(descriptive_text + \"\\n Epileptic: \" + str(epileptic) + \" Borderline: \" + str(almost_epileptic) + \n",
    "          \" Target: \" + str(target) + \"\\n Amplitude: \" + str(amp) + \n",
    "          \" Weight: \" + str(stim_weight) + \"\\n Onset: \" + str(onset) + \n",
    "          \" Period: \" + str(period) + \" Pulse Width: \" + str(pw))\n",
    "    \n",
    "    plt.savefig('Graphs/' + descriptive_text + \"-amp\" + str(amp) + \"-stim_wgt\" + str(stim_weight))\n",
    "    \n",
    "    outfile = open('Graphs/' + descriptive_text + \"-amp\" + str(amp) + \"-stim_wgt\" + str(stim_weight) + '.txt', \"w+\")\n",
    "    \n",
    "    for time, value in zip(ttavg, tavg):\n",
    "                outfile.write(str(time) + ' \\t')\n",
    "                for sensor in value[0]:\n",
    "                    outfile.write(str(sensor[0]) + '\\t')\n",
    "                outfile.write('\\n')\n",
    "    outfile.close()"
   ]
  },
  {
   "cell_type": "code",
   "execution_count": null,
   "metadata": {
    "collapsed": true
   },
   "outputs": [],
   "source": []
  },
  {
   "cell_type": "code",
   "execution_count": null,
   "metadata": {
    "collapsed": true
   },
   "outputs": [],
   "source": []
  },
  {
   "cell_type": "code",
   "execution_count": null,
   "metadata": {
    "collapsed": true
   },
   "outputs": [],
   "source": []
  },
  {
   "cell_type": "code",
   "execution_count": null,
   "metadata": {
    "collapsed": true
   },
   "outputs": [],
   "source": []
  }
 ],
 "metadata": {
  "kernelspec": {
   "display_name": "Python 2",
   "language": "python",
   "name": "python2"
  },
  "language_info": {
   "codemirror_mode": {
    "name": "ipython",
    "version": 2
   },
   "file_extension": ".py",
   "mimetype": "text/x-python",
   "name": "python",
   "nbconvert_exporter": "python",
   "pygments_lexer": "ipython2",
   "version": "2.7.11"
  }
 },
 "nbformat": 4,
 "nbformat_minor": 0
}
