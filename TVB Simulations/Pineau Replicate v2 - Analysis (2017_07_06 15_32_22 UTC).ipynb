{
 "cells": [
  {
   "cell_type": "code",
   "execution_count": 2,
   "metadata": {
    "collapsed": false
   },
   "outputs": [
    {
     "name": "stdout",
     "output_type": "stream",
     "text": [
      "Populating the interactive namespace from numpy and matplotlib\n",
      "   INFO  log level set to INFO\n"
     ]
    }
   ],
   "source": [
    "%pylab nbagg\n",
    "from tvb.simulator.lab import *\n",
    "from sklearn.ensemble import ExtraTreesRegressor\n",
    "import operator\n",
    "from scipy.signal import butter, lfilter\n",
    "import scipy\n",
    "import sim\n",
    "import pickle\n",
    "import copy\n",
    "import os.path"
   ]
  },
  {
   "cell_type": "code",
   "execution_count": null,
   "metadata": {
    "collapsed": true
   },
   "outputs": [],
   "source": []
  },
  {
   "cell_type": "code",
   "execution_count": 3,
   "metadata": {
    "collapsed": true
   },
   "outputs": [],
   "source": [
    "result_no = 0"
   ]
  },
  {
   "cell_type": "code",
   "execution_count": 4,
   "metadata": {
    "collapsed": true
   },
   "outputs": [],
   "source": [
    "path = 'Graphs/Pineau-Results/'"
   ]
  },
  {
   "cell_type": "markdown",
   "metadata": {},
   "source": [
    "#Function Definitions"
   ]
  },
  {
   "cell_type": "code",
   "execution_count": 5,
   "metadata": {
    "collapsed": true
   },
   "outputs": [],
   "source": [
    "def action_params(action):\n",
    "    if action == 0:\n",
    "        t = 0\n",
    "        p = 0\n",
    "        a = 0\n",
    "    elif action == 1:\n",
    "        t = 200\n",
    "        p = 1\n",
    "        a = 1\n",
    "    elif action == 2:\n",
    "        t = 67\n",
    "        p = 1\n",
    "        a = 1\n",
    "    elif action == 3:\n",
    "        t = 200\n",
    "        p = 1\n",
    "        a = 1.25\n",
    "    elif action == 4:\n",
    "        t = 67\n",
    "        p = 1\n",
    "        a = 1.25\n",
    "    elif action == 5:\n",
    "        t = 200\n",
    "        p = 1\n",
    "        a = 1.5\n",
    "    elif action == 6:\n",
    "        t = 67\n",
    "        p = 1\n",
    "        a = 1.5\n",
    "    elif action == 7:\n",
    "        t = 200\n",
    "        p = 1\n",
    "        a = 1.75\n",
    "    elif action == 8:\n",
    "        t = 67\n",
    "        p = 1\n",
    "        a = 1.75\n",
    "    elif action == 9:\n",
    "        t = 200\n",
    "        p = 1\n",
    "        a = 2\n",
    "    elif action == 10:\n",
    "        t = 67\n",
    "        p = 1\n",
    "        a = 2\n",
    "    elif action == 11:\n",
    "        t = 200\n",
    "        p = 1\n",
    "        a = 2.25\n",
    "    elif action == 12:\n",
    "        t = 67\n",
    "        p = 1\n",
    "        a = 2.25\n",
    "    elif action == 13:\n",
    "        t = 200\n",
    "        p = 1\n",
    "        a = 2.5\n",
    "    elif action == 14:\n",
    "        t = 67\n",
    "        p = 1\n",
    "        a = 2.5\n",
    "    elif action == 15:\n",
    "        t = 100\n",
    "        p = 1\n",
    "        a = 1\n",
    "    elif action == 16:\n",
    "        t = 100\n",
    "        p = 1\n",
    "        a = 1.25\n",
    "    elif action == 17:\n",
    "        t = 100\n",
    "        p = 1\n",
    "        a = 1.5\n",
    "    elif action == 18:\n",
    "        t = 100\n",
    "        p = 1\n",
    "        a = 1.75\n",
    "    elif action == 19:\n",
    "        t = 100\n",
    "        p = 1\n",
    "        a = 2\n",
    "    elif action == 20:\n",
    "        t = 100\n",
    "        p = 1\n",
    "        a = 2.25\n",
    "    elif action == 21:\n",
    "        t = 100\n",
    "        p = 1\n",
    "        a = 2.5\n",
    "    elif action == 22:\n",
    "        t = 20\n",
    "        p = 1\n",
    "        a = 0.5\n",
    "    elif action == 23:\n",
    "        t = 20\n",
    "        p = 1\n",
    "        a = 0.75\n",
    "    elif action == 24:\n",
    "        t = 20\n",
    "        p = 1\n",
    "        a = 1\n",
    "    elif action == 25:\n",
    "        t = 10\n",
    "        p = 1\n",
    "        a = 0.5\n",
    "    elif action == 26:\n",
    "        t = 10\n",
    "        p = 1\n",
    "        a = 0.75\n",
    "    elif action == 27:\n",
    "        t = 10\n",
    "        p = 1\n",
    "        a = 1\n",
    "     \n",
    "     \n",
    "        \n",
    "    return (t,p,a)\n"
   ]
  },
  {
   "cell_type": "markdown",
   "metadata": {},
   "source": [
    "#Import Test Data"
   ]
  },
  {
   "cell_type": "code",
   "execution_count": 6,
   "metadata": {
    "collapsed": false
   },
   "outputs": [],
   "source": [
    "parameters = [\n",
    "             # [1,200,1,0,'test',1,1000,200],\n",
    "              [0, 0, 0, 0, 'Control-0Hz', 0, 20000, 200],\n",
    "              [1, 200, 1, 0, '5KHz-1pw-1amp',1,20000, 200],\n",
    "              [1, 67, 1, 0, '15KHz-1pw-1amp',2,20000, 200],\n",
    "              [1.25, 200, 1, 0, '5KHz-1pw-1_25amp',3,20000, 200],\n",
    "              [1.25, 67, 1, 0, '15KHz-1pw-1_25amp',4,20000,200],\n",
    "              [1.5, 200, 1, 0, '5KHz-1pw-1_5amp',5,20000, 200],\n",
    "              [1.5, 67, 1, 0, '15KHz-1pw-1_5amp',6,20000, 200],\n",
    "              [1.75, 200, 1, 0, '5KHz-1pw-1_75amp',7,20000, 200],\n",
    "              [1.75, 67, 1, 0, '15KHz-1pw-1_75amp',8,20000,200],\n",
    "              [2, 200, 1, 0, '5KHz-1pw-2amp', 9, 20000, 200],\n",
    "              [2, 67, 1, 0, '15Khz-1pw-2amp', 10, 20000, 200],\n",
    "              [2.25, 200, 1, 0, '5KHz-1pw-2_25amp', 11, 20000, 200],\n",
    "              [2.25, 67, 1, 0, '15KHz-1pw-2_25amp', 12, 20000, 200],\n",
    "              [2.5, 200, 1, 0, '5KHz-1pw-2_5amp', 13, 20000, 200],\n",
    "              [2.5, 67, 1, 0, '15KHz-1pw-2_5amp', 14, 20000, 200],\n",
    "            \n",
    "              [1, 100, 1, 0, '10KHz-1pw-1amp',15,20000, 200],\n",
    "              [1.25, 100, 1, 0, '10KHz-1pw-1_25amp',16,20000, 200],\n",
    "              [1.5, 100, 1, 0, '10KHz-1pw-1_5amp',17,20000, 200],\n",
    "              [1.75, 100, 1, 0, '10KHz-1pw-1_75amp',18,20000,200],\n",
    "              [2, 100, 1, 0, '10KHz-1pw-2amp',19,20000,200],\n",
    "              [2.25, 100, 1, 0, '10KHz-1pw-2_25amp',20,20000,200],\n",
    "              [2.5, 100, 1, 0, '10KHz-1pw-2_5amp',21,20000,200],\n",
    "    \n",
    "              [0.5, 20, 1, 0, '50KHz-1pw-0_5amp',22,20000, 200],\n",
    "              [0.75, 20, 1, 0, '50KHz-1pw-0_75amp',23,20000, 200],\n",
    "              [1, 20, 1, 0, '50KHz-1pw-1amp',24,20000, 200],\n",
    "    \n",
    "              [0.5, 10, 1, 0, '100KHz-1pw-0_5amp',25,20000, 200],\n",
    "              [0.75, 10, 1, 0, '100KHz-1pw-0_75amp',26,20000, 200],\n",
    "              [1, 10, 1, 0, '100KHz-1pw-1amp',27,20000, 200],   \n",
    "            ]\n",
    "datapath = \"Graphs/bigdata/\"\n",
    "results = []\n",
    "for f in parameters:\n",
    "    filepath = datapath + f[4] + '.p'\n",
    "    if os.path.isfile(filepath):\n",
    "        readfile = open(filepath, 'r')\n",
    "        in_var = pickle.load(readfile)\n",
    "        results.append([in_var[0],in_var[1],in_var[2]])"
   ]
  },
  {
   "cell_type": "markdown",
   "metadata": {},
   "source": [
    "#Analyze test set\n",
    "Use 800 ms frames that move by 200 ms (dt = 200, frame_len = 800)\n",
    "ictal_log has the same format as action_log, where 1 corresponds to ictal and 0 corresponds to inter-ictal states."
   ]
  },
  {
   "cell_type": "code",
   "execution_count": 7,
   "metadata": {
    "collapsed": false
   },
   "outputs": [],
   "source": [
    "def analyze_frame(d, dt, frame_len):\n",
    "    data = np.array(d)\n",
    "    data_sq = square(data)\n",
    "    data_fft = abs(fft.fft(data))**2/10000\n",
    "    \n",
    "    \n",
    "    #Full\n",
    "    maxi_long = max(data)\n",
    "    mini_long = min(data)\n",
    "    rng_long = maxi_long-mini_long\n",
    "    avg_long = sum(data)/len(data)\n",
    "    tot_eng_long = sum(data_fft)\n",
    "    loF_eng_long = sum(data_fft[:len(data_fft)/3])\n",
    "    miF_eng_long = sum(data_fft[len(data_fft)/3:2*len(data_fft)/3])\n",
    "    hiF_eng_long = sum(data_fft[2*len(data_fft)/3:])\n",
    "\n",
    "    #Half \n",
    "    half = len(data)/2\n",
    "    data_fft_half = abs(fft.fft(data[half:]))\n",
    "    maxi_half = max(data[half:])\n",
    "    mini_half = min(data[half:])\n",
    "    rng_half = maxi_half-mini_half\n",
    "    avg_half = sum(data[half:])/len(data[half:])\n",
    "    tot_eng_half = sum(data_fft_half)\n",
    "    loF_eng_half = sum(data_fft_half[:len(data_fft_half)/3])\n",
    "    miF_eng_half = sum(data_fft_half[len(data_fft_half)/3:2*len(data_fft_half)/3])\n",
    "    hiF_eng_half = sum(data_fft_half[2*len(data_fft_half)/3:])\n",
    "\n",
    "\n",
    "    #Quarter\n",
    "    qt = 3*len(data)/4\n",
    "    data_fft_qt = abs(fft.fft(data[qt:]))\n",
    "    maxi_qt = max(data[qt:])\n",
    "    mini_qt = min(data[qt:])\n",
    "    rng_qt = maxi_qt=mini_qt\n",
    "    avg_qt = sum(data[qt:])/len(data[qt:])\n",
    "    tot_eng_qt = sum(data_fft_qt)\n",
    "    loF_eng_qt = sum(data_fft_qt[:len(data_fft_qt)/3])\n",
    "    miF_eng_qt = sum(data_fft_qt[len(data_fft_qt)/3:2*len(data_fft_qt)/3])\n",
    "    hiF_eng_qt = sum(data_fft_qt[2*len(data_fft_qt)/3:])\n",
    "\n",
    "\n",
    "    #Eighth \n",
    "    eit = 7*len(data)/8\n",
    "    data_fft_eit = abs(fft.fft(data[eit:]))\n",
    "    maxi_eit = max(data[eit:])\n",
    "    mini_eit = min(data[eit:])\n",
    "    rng_eit = maxi_eit-mini_eit\n",
    "    avg_eit = sum(data[eit:])/len(data[eit:])\n",
    "    tot_eng_eit = sum(data_fft_eit)\n",
    "    loF_eng_eit = sum(data_fft_eit[:len(data_fft_eit)/3])\n",
    "    miF_eng_eit = sum(data_fft_eit[len(data_fft_eit)/3:2*len(data_fft_eit)/3])\n",
    "    hiF_eng_eit = sum(data_fft_eit[2*len(data_fft_eit)/3:])\n",
    "\n",
    "\n",
    "    state = [\n",
    "             #stim_T, stim_pw, stim_amp,\n",
    "             #maxi_long, mini_long, rng_long, avg_long, tot_eng_long, loF_eng_long, miF_eng_long, hiF_eng_long,\n",
    "             #maxi_half, mini_half, rng_half, avg_half, tot_eng_half, loF_eng_half, miF_eng_half, hiF_eng_half,\n",
    "             maxi_qt, mini_qt, rng_qt, avg_qt, tot_eng_qt, loF_eng_qt, miF_eng_qt, hiF_eng_qt, \n",
    "             maxi_eit, mini_eit, rng_eit, avg_eit, tot_eng_eit, loF_eng_eit, miF_eng_eit, hiF_eng_eit, \n",
    "            ]\n",
    "    return state"
   ]
  },
  {
   "cell_type": "code",
   "execution_count": 28,
   "metadata": {
    "collapsed": true
   },
   "outputs": [],
   "source": [
    "def analyze_set(t, d, action_log, ictal_log, dt, time):\n",
    "    frame_len = 800\n",
    "    \n",
    "    \n",
    "    n_frames = (time-frame_len)/dt\n",
    "    \n",
    "    state_transition = []\n",
    "    \n",
    "    ## HAND ANNOTATE\n",
    "    ictal_log = []\n",
    "    ##\n",
    "    \n",
    "    for i in range((n_frames)):\n",
    "    \n",
    "        time = t[i*dt:i*dt+frame_len]\n",
    "        data = np.array(d[i*dt:i*dt+frame_len,0,9,0])\n",
    "        #ictal = ictal_log[i + frame_len/dt]\n",
    "        action = action_log[i+frame_len/dt]\n",
    "        data_sq = square(data)\n",
    "        data_fft = abs(fft.fft(data))**2/10000\n",
    "        \n",
    "        ##HAND ANNOTATE\n",
    "        if sum(data[3*len(data)/4:])/len(data[3*len(data)/4:])/len(data[3*len(data)/4:]) < 0:\n",
    "            ictal = 1\n",
    "        else: ictal = 0\n",
    "        ictal_log.append(ictal)\n",
    "        ##HAND ANNOTATE\n",
    "        \n",
    "        \n",
    "        #Stim\n",
    "        action_p = action_params(action)\n",
    "        stim_T = action_p[0]\n",
    "        stim_pw = action_p[1]\n",
    "        stim_amp = action_p[2]\n",
    "        \n",
    "        #Use analyze_frame instead of this block\n",
    "        \n",
    "        #Full\n",
    "        maxi_long = max(data)\n",
    "        mini_long = min(data)\n",
    "        rng_long = maxi_long-mini_long\n",
    "        avg_long = sum(data)/len(data)\n",
    "        tot_eng_long = sum(data_fft)\n",
    "        loF_eng_long = sum(data_fft[:len(data_fft)/3])\n",
    "        miF_eng_long = sum(data_fft[len(data_fft)/3:2*len(data_fft)/3])\n",
    "        hiF_eng_long = sum(data_fft[2*len(data_fft)/3:])\n",
    "        \n",
    "        #Half \n",
    "        half = len(data)/2\n",
    "        data_fft_half = abs(fft.fft(data[half:]))\n",
    "        maxi_half = max(data[half:])\n",
    "        mini_half = min(data[half:])\n",
    "        rng_half = maxi_half-mini_half\n",
    "        avg_half = sum(data[half:])/len(data[half:])\n",
    "        tot_eng_half = sum(data_fft_half)\n",
    "        loF_eng_half = sum(data_fft_half[:len(data_fft_half)/3])\n",
    "        miF_eng_half = sum(data_fft_half[len(data_fft_half)/3:2*len(data_fft_half)/3])\n",
    "        hiF_eng_half = sum(data_fft_half[2*len(data_fft_half)/3:])\n",
    "        \n",
    "        \n",
    "        #Quarter\n",
    "        qt = 3*len(data)/4\n",
    "        data_fft_qt = abs(fft.fft(data[qt:]))\n",
    "        maxi_qt = max(data[qt:])\n",
    "        mini_qt = min(data[qt:])\n",
    "        rng_qt = maxi_qt=mini_qt\n",
    "        avg_qt = sum(data[qt:])/len(data[qt:])\n",
    "        tot_eng_qt = sum(data_fft_qt)\n",
    "        loF_eng_qt = sum(data_fft_qt[:len(data_fft_qt)/3])\n",
    "        miF_eng_qt = sum(data_fft_qt[len(data_fft_qt)/3:2*len(data_fft_qt)/3])\n",
    "        hiF_eng_qt = sum(data_fft_qt[2*len(data_fft_qt)/3:])\n",
    "        \n",
    "        \n",
    "        #Eighth \n",
    "        eit = 7*len(data)/8\n",
    "        data_fft_eit = abs(fft.fft(data[eit:]))\n",
    "        maxi_eit = max(data[eit:])\n",
    "        mini_eit = min(data[eit:])\n",
    "        rng_eit = maxi_eit-mini_eit\n",
    "        avg_eit = sum(data[eit:])/len(data[eit:])\n",
    "        tot_eng_eit = sum(data_fft_eit)\n",
    "        loF_eng_eit = sum(data_fft_eit[:len(data_fft_eit)/3])\n",
    "        miF_eng_eit = sum(data_fft_eit[len(data_fft_eit)/3:2*len(data_fft_eit)/3])\n",
    "        hiF_eng_eit = sum(data_fft_eit[2*len(data_fft_eit)/3:])\n",
    "        \n",
    "        \n",
    "        state = [\n",
    "                 #stim_T, stim_pw, stim_amp,\n",
    "                 #maxi_long, mini_long, rng_long, avg_long, tot_eng_long, loF_eng_long, miF_eng_long, hiF_eng_long,\n",
    "                 #maxi_half, mini_half, rng_half, avg_half, tot_eng_half, loF_eng_half, miF_eng_half, hiF_eng_half,\n",
    "                 maxi_qt, mini_qt, rng_qt, avg_qt, tot_eng_qt, loF_eng_qt, miF_eng_qt, hiF_eng_qt, \n",
    "                 maxi_eit, mini_eit, rng_eit, avg_eit, tot_eng_eit, loF_eng_eit, miF_eng_eit, hiF_eng_eit, \n",
    "                ]\n",
    "        \n",
    "        action_penalty = 0\n",
    "        if action != 0:\n",
    "            action_penalty = -1\n",
    "        action_weight = 0.8\n",
    "        \n",
    "      \n",
    "\n",
    "        reward = - ictal + action_weight * action_penalty\n",
    "        \n",
    "        #use previous state in learning\n",
    "        state_transition.append([state, action, reward])\n",
    "        \n",
    "    return state_transition"
   ]
  },
  {
   "cell_type": "markdown",
   "metadata": {},
   "source": [
    "#Set up dataset"
   ]
  },
  {
   "cell_type": "code",
   "execution_count": 32,
   "metadata": {
    "collapsed": true
   },
   "outputs": [],
   "source": [
    "all_state_transitions = []\n",
    "for i in range(1,len(results)):\n",
    "    t = results[i][0]\n",
    "    d = results[i][1]\n",
    "    a = results[i][2]\n",
    "    i = []\n",
    "    dt = 200\n",
    "    ti = 20000\n",
    "    \n",
    "    s_t = analyze_set(t, d, a, i, dt, ti)\n",
    "    all_state_transitions.append(s_t)"
   ]
  },
  {
   "cell_type": "markdown",
   "metadata": {
    "collapsed": false
   },
   "source": [
    "#Fitted Q Iteration\n",
    "Just like Guez did it"
   ]
  },
  {
   "cell_type": "code",
   "execution_count": 33,
   "metadata": {
    "collapsed": false
   },
   "outputs": [],
   "source": [
    "i = 0\n",
    "input_tree = []\n",
    "output_tree = []\n",
    "nextstate = []\n",
    "for state_transition in all_state_transitions:\n",
    "    for i in range(len(state_transition) - 1):\n",
    "        if i > 0:\n",
    "            previous_state = copy.deepcopy(state_transition[i-1][0])\n",
    "            result_state = copy.deepcopy(state_transition[i][0])\n",
    "            action_taken = state_transition[i][1]\n",
    "            reward = state_transition[i][2]\n",
    "            relative_reward = reward - state_transition[i-1][2]\n",
    "            \n",
    "            state_action = append(previous_state,action_taken)#[previous_state, action] #should they be in a single array?\n",
    "            out = reward #relative reward or reward!?\n",
    "            \n",
    "            input_tree.append(state_action)\n",
    "            output_tree.append(out)\n",
    "            nextstate.append(result_state)"
   ]
  },
  {
   "cell_type": "code",
   "execution_count": 31,
   "metadata": {
    "collapsed": false
   },
   "outputs": [
    {
     "data": {
      "text/plain": [
       "0"
      ]
     },
     "execution_count": 31,
     "metadata": {},
     "output_type": "execute_result"
    }
   ],
   "source": [
    "results[0][2][0]"
   ]
  },
  {
   "cell_type": "code",
   "execution_count": 34,
   "metadata": {
    "collapsed": true
   },
   "outputs": [],
   "source": [
    "def iterate_q(ins, outs, nextstate, iterations, valid_action):\n",
    "    etrees = ExtraTreesRegressor()\n",
    "    N = 0;\n",
    "    for x in range(iterations):\n",
    "        N += 1\n",
    "        out_new = copy.copy(outs)\n",
    "        if N > 1:\n",
    "            for i in range(len(outs)):\n",
    "                bestaction = random.choice(valid_action)\n",
    "                \n",
    "                bestval = etrees.predict(append(nextstate[i], bestaction).reshape(1,-1))\n",
    "                \n",
    "                for action in valid_action:\n",
    "                    val = etrees.predict(append(nextstate[i], action).reshape(1,-1))\n",
    "                    if val > bestval:\n",
    "                        bestaction = action\n",
    "                        bestval = val\n",
    "                #print (\"nextstate: \" + str(nextstates[i]) + \" best action: \" + str(bestaction) + \" val: \"+str(bestval) )\n",
    "                out_new[i] += 0.9*bestval #gamma = 0.9\n",
    "        etrees.fit(ins, np.ravel(out_new))\n",
    "        #if x%(iterations/10.) == 0:\n",
    "        print \"iteration \" + str(x)\n",
    "        \n",
    "        \n",
    "    return etrees"
   ]
  },
  {
   "cell_type": "code",
   "execution_count": 35,
   "metadata": {
    "collapsed": false
   },
   "outputs": [
    {
     "name": "stdout",
     "output_type": "stream",
     "text": [
      "iteration 0\n",
      "iteration 1\n",
      "iteration 2\n",
      "iteration 3\n",
      "iteration 4\n",
      "iteration 5\n",
      "iteration 6\n",
      "iteration 7\n",
      "iteration 8\n",
      "iteration 9\n"
     ]
    }
   ],
   "source": [
    "predictor = iterate_q(input_tree, output_tree, nextstate,10,[0,1,2,3,4,5,6,7,8,9,10,11,12,13,14])"
   ]
  },
  {
   "cell_type": "markdown",
   "metadata": {
    "collapsed": true
   },
   "source": [
    "#Test the decision policy\n",
    "And really really hope it works.\n"
   ]
  },
  {
   "cell_type": "code",
   "execution_count": 36,
   "metadata": {
    "collapsed": false
   },
   "outputs": [
    {
     "name": "stdout",
     "output_type": "stream",
     "text": [
      "WARNING  File 'hemispheres' not found in ZIP.\n"
     ]
    }
   ],
   "source": [
    "epileptic = [9]\n",
    "almost_epileptic = []\n",
    "stimulus_target = [9]\n",
    "stimulus_amplitude = 0\n",
    "stimulus_weight = 2 #0-2 for each region\n",
    "onset = 0\n",
    "period = 0\n",
    "pulse_width = 0\n",
    "sim_time = 10000\n",
    "dt = 200\n",
    "frame_length = 800\n",
    "ic_buffer = 3000\n",
    "(s, stimulus) = sim.set_sim(epileptic, almost_epileptic, stimulus_target, stimulus_amplitude, \n",
    "              stimulus_weight, onset, period, pulse_width, sim_time)\n",
    "\n",
    "\n",
    "(t_t, t_d), (aa, aa1), (bb, bb1) = s.run(simulation_length = ic_buffer)\n",
    "\n",
    "\n",
    "valid_action = [0,1,2,3,4,5,6,7,8,9,10,11,12,13,14]\n",
    "test_states = []\n",
    "action_log = []"
   ]
  },
  {
   "cell_type": "code",
   "execution_count": 37,
   "metadata": {
    "collapsed": true
   },
   "outputs": [],
   "source": [
    "#(s_control, stim_control) = sim.set_sim(epileptic, almost_epileptic, stimulus_target, stimulus_amplitude, \n",
    "#              stimulus_weight, onset, period, pulse_width, sim_time)\n",
    "#(t_control, d_control), (x, y), (z,w) = s_control.run(simulation_length = ic_buffer)\n",
    "#(t_c, d_c), (xxxxx, yyyyy), (xxxx, yyyy) = s_control.run(simulation_length = sim_time)\n",
    "#t_contol = np.append(t_contol, t_c, axis = 0)\n",
    "#d_control = np.append(d_control, d_c, axis = 0)\n",
    "#who needs a control group?"
   ]
  },
  {
   "cell_type": "code",
   "execution_count": 38,
   "metadata": {
    "collapsed": false
   },
   "outputs": [],
   "source": [
    "t_all = copy.copy(t_t)\n",
    "d_all = copy.copy(t_d)"
   ]
  },
  {
   "cell_type": "code",
   "execution_count": 39,
   "metadata": {
    "collapsed": false
   },
   "outputs": [
    {
     "name": "stdout",
     "output_type": "stream",
     "text": [
      "time: 0\n",
      "time: 1000\n",
      "time: 2000\n",
      "time: 3000\n",
      "time: 4000\n",
      "time: 5000\n",
      "time: 6000\n",
      "time: 7000\n",
      "time: 8000\n",
      "time: 9000\n"
     ]
    }
   ],
   "source": [
    "for i in range(sim_time/dt):\n",
    "    if i%5 == 0:\n",
    "        print \"time: \" + str(i*dt)\n",
    "    if i == 0:\n",
    "        action_log.append(0)\n",
    "        \n",
    "    (t,d), (aaa, bbb), (ccc,ddd) = s.run(simulation_length = dt)\n",
    "    t_all = np.append(t_all, t, axis = 0)\n",
    "    d_all = np.append(d_all, d, axis = 0)\n",
    "    \n",
    "    frame_data = d_all[ ic_buffer + (i+1)*dt - frame_length : ic_buffer + (i+1)*dt ,0,9,0] \n",
    "    frame_time = t_all[ ic_buffer + (i+1)*dt - frame_length : ic_buffer + (i+1)*dt ] \n",
    "    \n",
    "    state = analyze_frame(frame_data, dt, frame_length)\n",
    "    \n",
    "    bestaction = 5\n",
    "    bestval = predictor.predict(append(state, bestaction).reshape(1,-1))[0]\n",
    "    \n",
    "    for action in valid_action:\n",
    "        val = predictor.predict(append(state, action).reshape(1,-1))[0]\n",
    "        #print(\"     Action: \" + str(action) + \" Value: \" + str(val))\n",
    "        if val > bestval:\n",
    "            bestaction = action\n",
    "            bestval = val\n",
    "    #print \"best value is : \" + str(bestval) + \"\\n\"\n",
    "    #print \"best action is : \" + str(bestaction) + \"\\n\"\n",
    "    action = bestaction\n",
    "    \n",
    "    \n",
    "    action_p = action_params(action)\n",
    "    T = action_p[0]\n",
    "    tau = action_p[1]\n",
    "    amp = action_p[2]\n",
    "    \n",
    "    stimulus.temporal.parameters[\"amp\"] = amp\n",
    "    stimulus.temporal.parameters[\"T\"] = T\n",
    "    stimulus.temporal.parameters[\"tau\"] = tau\n",
    "    \n",
    "    test_states.append(state)\n",
    "    action_log.append(action)"
   ]
  },
  {
   "cell_type": "code",
   "execution_count": 40,
   "metadata": {
    "collapsed": false
   },
   "outputs": [],
   "source": [
    "plot_save_test(t_all, d_all, action_log,test_states,sim_time,dt,\"10iterations\", 5)"
   ]
  },
  {
   "cell_type": "code",
   "execution_count": 19,
   "metadata": {
    "collapsed": true
   },
   "outputs": [],
   "source": [
    "def plot_save_test(t_all, d_all, action_log, test_states, sim_time, dt, filename, result_no):\n",
    "    fig, ax1 = pyplot.subplots(figsize=(15,10))\n",
    "    ax2 = ax1.twinx()\n",
    "    ioff()\n",
    "    ax1.plot(t_all[3000:]-2999.5,d_all[3000:,0,9,0], 'r', label = \"Local Field Potential\")\n",
    "\n",
    "    #ax2.plot((t_all[3000:3051]-2999.5)*200, action_log)\n",
    "    for i in range(sim_time/dt):\n",
    "        if i == 0:\n",
    "            timeframe = ax1.plot([i*dt, i*dt], [-3, 3],'g', alpha = 0.1, label = \"Frame Start\")\n",
    "        else:\n",
    "            ax1.plot([i*dt, i*dt], [-3, 3],'g', alpha = 0.1)\n",
    "    i = 0\n",
    "    framestart = 0\n",
    "    stim = 0\n",
    "    for n in range(len(t_all[3000:])):\n",
    "        if n % dt == 0 :\n",
    "\n",
    "            i += 1\n",
    "            framestart = n\n",
    "            p = action_params(action_log[i-1])\n",
    "            period = p[0]\n",
    "            amp = p[2]\n",
    "        if  period != 0 and (n - framestart == 0 or (n - framestart) % period ==0 ) :\n",
    "\n",
    "            if stim == 0:\n",
    "                ax2.plot([t_all[3000+n]-2999.5, t_all[3000+n]-2999.5], [-amp, amp], 'b', linewidth = 1.5, alpha = 0.5, label = \"Stimulus\")\n",
    "                stim += 1\n",
    "            else:\n",
    "                ax2.plot([t_all[3000+n]-2999.5, t_all[3000+n]-2999.5], [-amp, amp], 'b', linewidth = 1.5, alpha = 0.5)\n",
    "    title(\"Neurostimulation with Offline Reinforcement Learning \\n\" + filename)\n",
    "\n",
    "\n",
    "    red = matplotlib.patches.Patch(color='red', label = 'LFP')\n",
    "    blue = matplotlib.patches.Patch(color='blue', label = 'Stimulus')\n",
    "    green = matplotlib.patches.Patch(color='green',alpha=0.3, label = 'Frame Start')\n",
    "\n",
    "    legend(handles=[red,blue,green])\n",
    "\n",
    "\n",
    "    #show()\n",
    "\n",
    "    \n",
    "    fig.savefig(path + \"result-\" + filename + str(result_no))\n",
    "    savefile = open(path + \"result-\" + filename + str(result_no)+'.p','w')\n",
    "    pickle.dump((t_all, d_all, action_log, test_states), savefile)"
   ]
  },
  {
   "cell_type": "code",
   "execution_count": 39,
   "metadata": {
    "collapsed": false
   },
   "outputs": [
    {
     "data": {
      "text/plain": [
       "[0,\n",
       " 14,\n",
       " 0,\n",
       " 5,\n",
       " 5,\n",
       " 5,\n",
       " 9,\n",
       " 14,\n",
       " 10,\n",
       " 10,\n",
       " 0,\n",
       " 13,\n",
       " 11,\n",
       " 11,\n",
       " 5,\n",
       " 5,\n",
       " 11,\n",
       " 8,\n",
       " 12,\n",
       " 5,\n",
       " 10,\n",
       " 10,\n",
       " 5,\n",
       " 5,\n",
       " 0,\n",
       " 11,\n",
       " 11,\n",
       " 8,\n",
       " 13,\n",
       " 14,\n",
       " 10,\n",
       " 13,\n",
       " 13,\n",
       " 13,\n",
       " 5,\n",
       " 5,\n",
       " 7,\n",
       " 0,\n",
       " 11,\n",
       " 10,\n",
       " 10,\n",
       " 0,\n",
       " 5,\n",
       " 9,\n",
       " 13,\n",
       " 9,\n",
       " 5,\n",
       " 6,\n",
       " 5,\n",
       " 5,\n",
       " 5]"
      ]
     },
     "execution_count": 39,
     "metadata": {},
     "output_type": "execute_result"
    }
   ],
   "source": [
    "action_log"
   ]
  },
  {
   "cell_type": "code",
   "execution_count": null,
   "metadata": {
    "collapsed": true
   },
   "outputs": [],
   "source": []
  }
 ],
 "metadata": {
  "kernelspec": {
   "display_name": "Python 2",
   "language": "python",
   "name": "python2"
  }
 },
 "nbformat": 4,
 "nbformat_minor": 0
}
